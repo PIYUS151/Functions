{
  "nbformat": 4,
  "nbformat_minor": 0,
  "metadata": {
    "colab": {
      "provenance": []
    },
    "kernelspec": {
      "name": "python3",
      "display_name": "Python 3"
    },
    "language_info": {
      "name": "python"
    }
  },
  "cells": [
    {
      "cell_type": "markdown",
      "source": [
        "# Functions Assignment\n",
        "\n",
        "**Theory Questions:**"
      ],
      "metadata": {
        "id": "qzH-LsocCyNZ"
      }
    },
    {
      "cell_type": "markdown",
      "source": [
        "**1.  What is the difference between a function and a method in Python?**\n",
        "\n",
        "   ->**Function**: A standalone block of code that performs a specific task. It is not tied to any particular object.\n",
        "\n",
        "   These are blocks of code that perform a specific task, and are not tied to a particular object or class. Functions can be reused to make code more organized and manageable. They can be used in both object-oriented and non-object-oriented programming languages.\n",
        "   \n",
        "   **Method**: A function associated with an object and typically operates on that object. It is called using the object's reference.\n",
        "\n",
        "   These are functions that are associated with an object or class. Methods are used to perform actions that are specific to a particular object or class. They are only applicable for object-oriented programming languages. The first argument of a method should be \"self\".\n",
        "\n"
      ],
      "metadata": {
        "id": "G0L4pJnRHOev"
      }
    },
    {
      "cell_type": "markdown",
      "source": [
        "**2.  Explain the concept of function arguments and parameters in Python?**\n",
        "\n",
        "   ->**Parameter**s: Variables defined in the function signature to accept values.\n",
        "\n",
        "        def add(a, b):  # a and b are parameters\n",
        "        return a + b\n",
        "\n",
        "\n",
        "   **Arguments**: Actual values passed to the function when it is called.\n",
        "\n",
        "      result = add(3, 4)  # 3 and 4 are arguments\n",
        "\n"
      ],
      "metadata": {
        "id": "3Z07G4hbIaOy"
      }
    },
    {
      "cell_type": "markdown",
      "source": [
        "**3.  What are the different ways to define and call a function in Python?**\n",
        "\n",
        "   ->**Defining a function**\n",
        "\n",
        "Use the def keyword, followed by the function name, parentheses, and the function body:\n",
        "\n",
        "\n",
        "Example: def my_function(): print(\"Hello from a function\")\n",
        "\n",
        "\n",
        "**Calling a function**\n",
        "\n",
        "Use the function name, followed by parentheses:\n",
        "\n",
        "Example: my_function()\n",
        "\n",
        "**Passing arguments**\n",
        "\n",
        "Add arguments inside the parentheses after the function name, separated by commas:\n",
        "\n",
        "Example: def my_function(fname): print(fname + \" Refsnes\")\n",
        "\n",
        "**Returning a value**\n",
        "\n",
        "Use the return statement to return a value to the caller:\n",
        "\n",
        "Example: def greet(name): return f\"Hello, {name}!\"\n",
        "\n",
        "**Creating an anonymous function**\n",
        "\n",
        "Use the lambda keyword to create a function without a name:\n",
        "\n",
        "Example: An anonymous function can be immediately invoked or stored in a variable\n",
        "\n",
        "**Using function recursion**\n",
        "\n",
        "A defined function can call itself:\n",
        "\n",
        "Example: A recursive function can be used to calculate the factorial of a given number\n"
      ],
      "metadata": {
        "id": "mprNFva_HOZ7"
      }
    },
    {
      "cell_type": "markdown",
      "source": [
        "**4.   What is the purpose of the return statement in a Python function?**\n",
        "\n",
        "   ->The purpose of the return statement in a Python function is to:\n",
        "\n",
        "   **End a function**: The return statement marks the end of a function's execution\n",
        "\n",
        "   **Return a value**: The return statement specifies the value or values to pass back from the function\n",
        "\n",
        "   **Return control to the caller**: The return statement returns control to the calling function"
      ],
      "metadata": {
        "id": "hpEALrZwHOUy"
      }
    },
    {
      "cell_type": "markdown",
      "source": [
        "**5.  What are iterators in Python and how do they differ from iterables?**\n",
        "\n",
        "   ->**Iterable**: An object that can return an iterator using the iter() method. Examples: lists, tuples, strings.\n",
        "\n",
        "   **Ittoerar**: An object that implements the iterator protocol (__iter__ and __next__) to produce items one at a time."
      ],
      "metadata": {
        "id": "Kg84qJWDHOPR"
      }
    },
    {
      "cell_type": "markdown",
      "source": [
        "**6.  Explain the concept of generators in Python and how they are defined?**\n",
        "\n",
        "   ->Generators are functions that yield values one at a time using the yield keyword, conserving memory. They are iterators by nature.\n",
        "   \n",
        "   example:\n",
        "\n",
        "\n",
        "    def gen():\n",
        "\n",
        "    for i in range(3):\n",
        "\n",
        "        yield i\n",
        "\n",
        "    for value in gen():\n",
        "\n",
        "    print(value)\n"
      ],
      "metadata": {
        "id": "X6nyM4xzHOJ8"
      }
    },
    {
      "cell_type": "markdown",
      "source": [
        "**7.  What are the advantages of using generators over regular functions?**\n",
        "\n",
        "   ->Generators have several advantages over regular functions, including:\n",
        "\n",
        "**Memory efficiency**: Generators are more memory efficient than regular functions because they only produce a sequence of values on demand, instead of returning a single value.\n",
        "\n",
        "**Infinite streams of data**: Generators can represent infinite streams of data.\n",
        "\n",
        "**Space efficiency**: Generators are space efficient because they only handle parts of a file at a time.\n",
        "\n",
        "**Faster and easier iterators**: Generators are a faster and easier way to create iterators.\n",
        "\n",
        "**Pause and resume**: Generator functions can be paused and resumed multiple times, while standard functions start, run, and return when finished.\n"
      ],
      "metadata": {
        "id": "w12rDGyGHOEC"
      }
    },
    {
      "cell_type": "markdown",
      "source": [
        "**8.  What is a lambda function in Python and when is it typically used?**\n",
        "\n",
        "  ->In Python, a lambda function is a small, anonymous function that's defined using the keyword \"lambda\". Lambda functions are often used for short, simple tasks where a full function definition would be overkill. They are ideal for operations that can be written in a single line, such as basic data transformations or simple mathematical calculations.\n",
        "\n",
        "**  Typical Use Cases:**\n",
        "\n",
        "With higher-order functions like map(), filter(), and reduce().\n",
        "Inline operations requiring concise logic.\n",
        "\n",
        "\n",
        "Here are some characteristics of lambda functions:\n",
        "\n",
        "**Anonymous**\n",
        "\n",
        "Lambda functions are anonymous because they don't require a name, though they can be assigned to a variable for reuse.\n",
        "\n",
        "**Syntax**\n",
        "\n",
        "The syntax for a lambda function in Python is \"lambda parameters: expression\".\n",
        "\n",
        "**Arguments**\n",
        "\n",
        "Lambda functions can take any number of arguments.\n",
        "\n",
        "**Expressions**\n",
        "\n",
        "Unlike normal functions, lambda functions evaluate and return only one expression.\n",
        "\n",
        "\n"
      ],
      "metadata": {
        "id": "PNeHNjV_HN-C"
      }
    },
    {
      "cell_type": "markdown",
      "source": [
        "**9.  Explain the purpose and usage of the map() function in Python?**\n",
        "\n",
        "   ->\n",
        "The map() function applies a given function to all elements in an iterable.\n",
        "Syntax: map(function, iterable)\n",
        "\n",
        "Example:\n",
        "\n",
        "python\n",
        "Copy code\n",
        "\n",
        "    nums = [1, 2, 3]\n",
        "\n",
        "    squares = map(lambda x: x**2, nums)\n",
        "\n",
        "    print(list(squares))  # Outputs [1, 4, 9]\n",
        "\n"
      ],
      "metadata": {
        "id": "vgmeJvpoHN2g"
      }
    },
    {
      "cell_type": "markdown",
      "source": [
        "**10.  What is the difference between map(), reduce(), and filter() functions in Python?**\n",
        "\n",
        " ->In Python, the main difference between the map(), filter(), and reduce() functions is what they do with the elements of an iterable:\n",
        "\n",
        "**map()**\n",
        "\n",
        "Applies a function to each element of an iterable and returns a list of the results.  \n",
        "\n",
        "**filter()**\n",
        "\n",
        "Constructs a list from elements of an iterable that match a specified condition.\n",
        "\n",
        "**reduce()**\n",
        "\n",
        "Applies a rolling computation to sequential pairs of values in a list and returns a single result.\n"
      ],
      "metadata": {
        "id": "4fzvgrwUHNXw"
      }
    },
    {
      "cell_type": "markdown",
      "source": [
        "# Practical Questions"
      ],
      "metadata": {
        "id": "0SlsqRxaEynb"
      }
    },
    {
      "cell_type": "code",
      "execution_count": 13,
      "metadata": {
        "colab": {
          "base_uri": "https://localhost:8080/"
        },
        "id": "4-hrxJewB-wa",
        "outputId": "651e08d3-8a8c-44f8-f175-440383b68f42"
      },
      "outputs": [
        {
          "output_type": "stream",
          "name": "stdout",
          "text": [
            "6\n"
          ]
        }
      ],
      "source": [
        "#1   Write a Python function that takes a list of numbers as input and returns the sum of all even numbers in the list\n",
        "\n",
        "def sum_even(lst):\n",
        "    return sum(num for num in lst if num % 2 == 0)\n",
        "print(sum_even([1, 2, 3, 4]))"
      ]
    },
    {
      "cell_type": "code",
      "source": [
        "#2 . Create a Python function that accepts a string and returns the reverse of that string.\n",
        "\n",
        "def reverse_string(s):\n",
        "    return s[::-1]\n",
        "print(reverse_string(\"hello\"))"
      ],
      "metadata": {
        "colab": {
          "base_uri": "https://localhost:8080/"
        },
        "id": "pSZaADODFWlD",
        "outputId": "2fb1bc92-d1d8-42f2-d6c7-f73d8f8e7c31"
      },
      "execution_count": 14,
      "outputs": [
        {
          "output_type": "stream",
          "name": "stdout",
          "text": [
            "olleh\n"
          ]
        }
      ]
    },
    {
      "cell_type": "code",
      "source": [
        "#3   Implement a Python function that takes a list of integers and returns a new list containing the squares of each number.\n",
        "\n",
        "def square_numbers(lst):\n",
        "    return [x**2 for x in lst]\n",
        "print(square_numbers([1, 2, 3]))"
      ],
      "metadata": {
        "colab": {
          "base_uri": "https://localhost:8080/"
        },
        "id": "Ijl_RjlNFgU0",
        "outputId": "ad6368dc-fa6e-479f-e5c2-3dd7ef3a3644"
      },
      "execution_count": 15,
      "outputs": [
        {
          "output_type": "stream",
          "name": "stdout",
          "text": [
            "[1, 4, 9]\n"
          ]
        }
      ]
    },
    {
      "cell_type": "code",
      "source": [
        "#4   Write a Python function that checks if a given number is prime or not from 1 to 200.\n",
        "\n",
        "def is_prime(n):\n",
        "    if n < 2:\n",
        "        return False\n",
        "    for i in range(2, int(n**0.5) + 1):\n",
        "        if n % i == 0:\n",
        "            return False\n",
        "    return True\n",
        "primes = [n for n in range(1, 201) if is_prime(n)]\n",
        "print(primes)"
      ],
      "metadata": {
        "colab": {
          "base_uri": "https://localhost:8080/"
        },
        "id": "sKsbjL-iFztJ",
        "outputId": "3dd8fa7a-c420-4543-8083-c216e19628c0"
      },
      "execution_count": 4,
      "outputs": [
        {
          "output_type": "stream",
          "name": "stdout",
          "text": [
            "[2, 3, 5, 7, 11, 13, 17, 19, 23, 29, 31, 37, 41, 43, 47, 53, 59, 61, 67, 71, 73, 79, 83, 89, 97, 101, 103, 107, 109, 113, 127, 131, 137, 139, 149, 151, 157, 163, 167, 173, 179, 181, 191, 193, 197, 199]\n"
          ]
        }
      ]
    },
    {
      "cell_type": "code",
      "source": [
        "#5   Create an iterator class in Python that generates the Fibonacci sequence up to a specified number of terms.\n",
        "\n",
        "class Fibonacci:\n",
        "    def __init__(self, n):\n",
        "        self.n = n\n",
        "        self.a, self.b = 0, 1\n",
        "        self.count = 0\n",
        "\n",
        "    def __iter__(self):\n",
        "        return self\n",
        "\n",
        "    def __next__(self):\n",
        "        if self.count >= self.n:\n",
        "            raise StopIteration\n",
        "        fib = self.a\n",
        "        self.a, self.b = self.b, self.a + self.b\n",
        "        self.count += 1\n",
        "        return fib\n",
        "fib_iter = Fibonacci(10)\n",
        "print(list(fib_iter))"
      ],
      "metadata": {
        "colab": {
          "base_uri": "https://localhost:8080/"
        },
        "id": "rIA9NoylF6UQ",
        "outputId": "67eee2bc-36d7-4bd9-ec0a-481ef178cd9f"
      },
      "execution_count": 5,
      "outputs": [
        {
          "output_type": "stream",
          "name": "stdout",
          "text": [
            "[0, 1, 1, 2, 3, 5, 8, 13, 21, 34]\n"
          ]
        }
      ]
    },
    {
      "cell_type": "code",
      "source": [
        "#6   Write a generator function in Python that yields the powers of 2 up to a given exponent.\n",
        "\n",
        "def powers_of_two(exponent):\n",
        "    for i in range(exponent + 1):\n",
        "        yield 2**i\n",
        "print(list(powers_of_two(5)))"
      ],
      "metadata": {
        "colab": {
          "base_uri": "https://localhost:8080/"
        },
        "id": "uKx1ETQ-GFjn",
        "outputId": "03ac4115-1b21-45a2-d979-ed378fed9ae6"
      },
      "execution_count": 6,
      "outputs": [
        {
          "output_type": "stream",
          "name": "stdout",
          "text": [
            "[1, 2, 4, 8, 16, 32]\n"
          ]
        }
      ]
    },
    {
      "cell_type": "code",
      "source": [
        "#7   Implement a generator function that reads a file line by line and yields each line as a string.\n",
        "\n",
        "def read_lines(file_path):\n",
        "    with open(file_path, 'r') as file:\n",
        "        for line in file:\n",
        "            yield line.strip()"
      ],
      "metadata": {
        "id": "8kNKvuQuGPq5"
      },
      "execution_count": 7,
      "outputs": []
    },
    {
      "cell_type": "code",
      "source": [
        "#8   Use a lambda function in Python to sort a list of tuples based on the second element of each tuple.\n",
        "\n",
        "tuples = [(1, 3), (2, 1), (4, 2)]\n",
        "sorted_tuples = sorted(tuples, key=lambda x: x[1])\n",
        "print(sorted_tuples)\n",
        "\n",
        "\n",
        "\n"
      ],
      "metadata": {
        "colab": {
          "base_uri": "https://localhost:8080/"
        },
        "id": "nquOwpkJGWnS",
        "outputId": "ba7b3338-22d4-4992-e624-653e2a9a7747"
      },
      "execution_count": 8,
      "outputs": [
        {
          "output_type": "stream",
          "name": "stdout",
          "text": [
            "[(2, 1), (4, 2), (1, 3)]\n"
          ]
        }
      ]
    },
    {
      "cell_type": "code",
      "source": [
        "#9  Write a Python program that uses `map()` to convert a list of temperatures from Celsius to Fahrenheit.\n",
        "\n",
        "celsius = [0, 20, 30]\n",
        "fahrenheit = map(lambda c: (c * 9/5) + 32, celsius)\n",
        "print(list(fahrenheit))"
      ],
      "metadata": {
        "colab": {
          "base_uri": "https://localhost:8080/"
        },
        "id": "N1MzTT_dGun5",
        "outputId": "bcdd3093-6a0f-4bdd-a1e1-7f60d15733ec"
      },
      "execution_count": 10,
      "outputs": [
        {
          "output_type": "stream",
          "name": "stdout",
          "text": [
            "[32.0, 68.0, 86.0]\n"
          ]
        }
      ]
    },
    {
      "cell_type": "code",
      "source": [
        "#10  Create a Python program that uses `filter()` to remove all the vowels from a given string.\n",
        "\n",
        "def remove_vowels(s):\n",
        "    return ''.join(filter(lambda x: x.lower() not in 'aeiou', s))\n",
        "print(remove_vowels(\"hello world\"))"
      ],
      "metadata": {
        "colab": {
          "base_uri": "https://localhost:8080/"
        },
        "id": "HU17rQvdGjLp",
        "outputId": "94689f70-476f-429f-a931-d3e40af2bd6f"
      },
      "execution_count": 9,
      "outputs": [
        {
          "output_type": "stream",
          "name": "stdout",
          "text": [
            "hll wrld\n"
          ]
        }
      ]
    },
    {
      "cell_type": "code",
      "source": [
        "#11  Accounting routine for bookshop:\n",
        "orders = [[34587, 4, 40.95], [98762, 2, 56.80], [77226, 3, 32.95], [88112, 5, 24.99]]\n",
        "result = list(map(lambda x: (x[0], x[1] * x[2] + (10 if x[1] * x[2] < 100 else 0)), orders))\n",
        "print(result)"
      ],
      "metadata": {
        "colab": {
          "base_uri": "https://localhost:8080/"
        },
        "id": "dzdzVcX4Gtnw",
        "outputId": "720d1215-84e9-4b77-e78e-f45b3d371136"
      },
      "execution_count": 11,
      "outputs": [
        {
          "output_type": "stream",
          "name": "stdout",
          "text": [
            "[(34587, 163.8), (98762, 113.6), (77226, 108.85000000000001), (88112, 124.94999999999999)]\n"
          ]
        }
      ]
    },
    {
      "cell_type": "code",
      "source": [],
      "metadata": {
        "id": "GZcoL3omG-ik"
      },
      "execution_count": null,
      "outputs": []
    }
  ]
}